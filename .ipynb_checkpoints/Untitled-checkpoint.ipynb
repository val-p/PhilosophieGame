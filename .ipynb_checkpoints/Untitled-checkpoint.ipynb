{
 "cells": [
  {
   "cell_type": "code",
   "execution_count": 1,
   "metadata": {},
   "outputs": [
    {
     "name": "stdout",
     "output_type": "stream",
     "text": [
      "Ça fonctionne !\n",
      "('Utilisateur:A3nm/INF344', ['Philosophie', 'Philosophique', 'Philosophie', 'Ren%C3%A9_Descartes', 'Philosophie#Frise_chronologique', 'Philosophie', 'Aide:R%C3%A9f%C3%A9rence_incompl%C3%A8te', 'Utilisateur:A3nm/culdesac', 'Geoffrey_Miller', 'R%C3%A9ussite'])\n"
     ]
    }
   ],
   "source": [
    "#!/usr/bin/python3\n",
    "# -*- coding: utf-8 -*-\n",
    "\n",
    "from bs4 import BeautifulSoup\n",
    "from json import loads\n",
    "from urllib.request import urlopen\n",
    "from urllib.parse import urlencode\n",
    "import re\n",
    "import ssl\n",
    "\n",
    "\n",
    "def getJSON(page):\n",
    "    params = urlencode({\n",
    "      'format': 'json',  # TODO: compléter ceci\n",
    "      'action': 'parse',  # TODO: compléter ceci\n",
    "      'prop': 'text',  # TODO: compléter ceci\n",
    "      'redirects': 'true',  # TODO: compléter ceci\n",
    "      'page': page})\n",
    "    API = \"https://fr.wikipedia.org/w/api.php\"  # TODO: changer ceci\n",
    "    # désactivation de la vérification SSL pour contourner un problème sur le\n",
    "    # serveur d'évaluation -- ne pas modifier\n",
    "    gcontext = ssl.SSLContext()\n",
    "    response = urlopen(API + \"?\" + params, context=gcontext)\n",
    "    return response.read().decode('utf-8')\n",
    "\n",
    "\n",
    "def test(page):\n",
    "    parsed = loads(getJSON(page))\n",
    "    #print(parsed['parse']['title'])\n",
    "    print(parsed['parse']['text']['*'])\n",
    "\n",
    "\n",
    "def getRawPage(page):\n",
    "    parsed = loads(getJSON(page))\n",
    "    try:\n",
    "        title = parsed['parse']['title']  # TODO: remplacer ceci\n",
    "        content = parsed['parse']['text']['*']  # TODO: remplacer ceci\n",
    "        return title, content\n",
    "    except KeyError:\n",
    "        # La page demandée n'existe pas\n",
    "        print('La page demandée n\\'existe pas')\n",
    "        return None, None\n",
    "\n",
    "\n",
    "def getPage(page):\n",
    "    title, html = getRawPage(page)\n",
    "    try : \n",
    "        soup = BeautifulSoup(html)\n",
    "        p_soup = soup.div.find_all('p', recursive=False)\n",
    "        link = []\n",
    "        #list_html = [href.get('href') for href in href_soup][:11]\n",
    "        for p in p_soup:\n",
    "            for a in p.find_all(href=re.compile('/wiki/')):\n",
    "                link.append(a.get('href'))\n",
    "        link = [re.sub('/wiki/','', x) for x in link][:11]\n",
    "        return title, link\n",
    "    except KeyError:\n",
    "        return None, []\n",
    "\n",
    "\n",
    "    \n",
    "if __name__ == '__main__':\n",
    "    # Ce code est exécuté lorsque l'on exécute le fichier\n",
    "    print(\"Ça fonctionne !\")\n",
    "    #getJSON('Liverpool')\n",
    "    \n",
    "    # Voici des idées pour tester vos fonctions :\n",
    "    #print(getJSON(\"Utilisateur:A3nm/INF344\"))\n",
    "    #test(\"Utilisateur:A3nm/INF344\")\n",
    "    #print(getRawPage(\"Utilisateur:A3nm/INF344\"))\n",
    "    print(getPage(\"Utilisateur:A3nm/INF344\"))\n",
    "    # print(getRawPage(\"Histoire\"))"
   ]
  },
  {
   "cell_type": "code",
   "execution_count": 1,
   "metadata": {},
   "outputs": [
    {
     "name": "stdout",
     "output_type": "stream",
     "text": [
      " * Serving Flask app \"__main__\" (lazy loading)\n",
      " * Environment: production\n",
      "   WARNING: Do not use the development server in a production environment.\n",
      "   Use a production WSGI server instead.\n",
      " * Debug mode: on\n"
     ]
    },
    {
     "ename": "OSError",
     "evalue": "[Errno 48] Address already in use",
     "output_type": "error",
     "traceback": [
      "\u001b[0;31m---------------------------------------------------------------------------\u001b[0m",
      "\u001b[0;31mOSError\u001b[0m                                   Traceback (most recent call last)",
      "\u001b[0;32m<ipython-input-1-aa64388e26b4>\u001b[0m in \u001b[0;36m<module>\u001b[0;34m\u001b[0m\n\u001b[1;32m     22\u001b[0m \u001b[0;34m\u001b[0m\u001b[0m\n\u001b[1;32m     23\u001b[0m \u001b[0;32mif\u001b[0m \u001b[0m__name__\u001b[0m \u001b[0;34m==\u001b[0m \u001b[0;34m'__main__'\u001b[0m\u001b[0;34m:\u001b[0m\u001b[0;34m\u001b[0m\u001b[0;34m\u001b[0m\u001b[0m\n\u001b[0;32m---> 24\u001b[0;31m     \u001b[0mapp\u001b[0m\u001b[0;34m.\u001b[0m\u001b[0mrun\u001b[0m\u001b[0;34m(\u001b[0m\u001b[0mdebug\u001b[0m\u001b[0;34m=\u001b[0m\u001b[0;32mTrue\u001b[0m\u001b[0;34m)\u001b[0m\u001b[0;34m\u001b[0m\u001b[0;34m\u001b[0m\u001b[0m\n\u001b[0m",
      "\u001b[0;32m/anaconda3/envs/python36/lib/python3.6/site-packages/flask/app.py\u001b[0m in \u001b[0;36mrun\u001b[0;34m(self, host, port, debug, load_dotenv, **options)\u001b[0m\n\u001b[1;32m    941\u001b[0m \u001b[0;34m\u001b[0m\u001b[0m\n\u001b[1;32m    942\u001b[0m         \u001b[0;32mtry\u001b[0m\u001b[0;34m:\u001b[0m\u001b[0;34m\u001b[0m\u001b[0;34m\u001b[0m\u001b[0m\n\u001b[0;32m--> 943\u001b[0;31m             \u001b[0mrun_simple\u001b[0m\u001b[0;34m(\u001b[0m\u001b[0mhost\u001b[0m\u001b[0;34m,\u001b[0m \u001b[0mport\u001b[0m\u001b[0;34m,\u001b[0m \u001b[0mself\u001b[0m\u001b[0;34m,\u001b[0m \u001b[0;34m**\u001b[0m\u001b[0moptions\u001b[0m\u001b[0;34m)\u001b[0m\u001b[0;34m\u001b[0m\u001b[0;34m\u001b[0m\u001b[0m\n\u001b[0m\u001b[1;32m    944\u001b[0m         \u001b[0;32mfinally\u001b[0m\u001b[0;34m:\u001b[0m\u001b[0;34m\u001b[0m\u001b[0;34m\u001b[0m\u001b[0m\n\u001b[1;32m    945\u001b[0m             \u001b[0;31m# reset the first request information if the development server\u001b[0m\u001b[0;34m\u001b[0m\u001b[0;34m\u001b[0m\u001b[0;34m\u001b[0m\u001b[0m\n",
      "\u001b[0;32m/anaconda3/envs/python36/lib/python3.6/site-packages/werkzeug/serving.py\u001b[0m in \u001b[0;36mrun_simple\u001b[0;34m(hostname, port, application, use_reloader, use_debugger, use_evalex, extra_files, reloader_interval, reloader_type, threaded, processes, request_handler, static_files, passthrough_errors, ssl_context)\u001b[0m\n\u001b[1;32m    793\u001b[0m             \u001b[0ms\u001b[0m \u001b[0;34m=\u001b[0m \u001b[0msocket\u001b[0m\u001b[0;34m.\u001b[0m\u001b[0msocket\u001b[0m\u001b[0;34m(\u001b[0m\u001b[0maddress_family\u001b[0m\u001b[0;34m,\u001b[0m \u001b[0msocket\u001b[0m\u001b[0;34m.\u001b[0m\u001b[0mSOCK_STREAM\u001b[0m\u001b[0;34m)\u001b[0m\u001b[0;34m\u001b[0m\u001b[0;34m\u001b[0m\u001b[0m\n\u001b[1;32m    794\u001b[0m             \u001b[0ms\u001b[0m\u001b[0;34m.\u001b[0m\u001b[0msetsockopt\u001b[0m\u001b[0;34m(\u001b[0m\u001b[0msocket\u001b[0m\u001b[0;34m.\u001b[0m\u001b[0mSOL_SOCKET\u001b[0m\u001b[0;34m,\u001b[0m \u001b[0msocket\u001b[0m\u001b[0;34m.\u001b[0m\u001b[0mSO_REUSEADDR\u001b[0m\u001b[0;34m,\u001b[0m \u001b[0;36m1\u001b[0m\u001b[0;34m)\u001b[0m\u001b[0;34m\u001b[0m\u001b[0;34m\u001b[0m\u001b[0m\n\u001b[0;32m--> 795\u001b[0;31m             \u001b[0ms\u001b[0m\u001b[0;34m.\u001b[0m\u001b[0mbind\u001b[0m\u001b[0;34m(\u001b[0m\u001b[0mget_sockaddr\u001b[0m\u001b[0;34m(\u001b[0m\u001b[0mhostname\u001b[0m\u001b[0;34m,\u001b[0m \u001b[0mport\u001b[0m\u001b[0;34m,\u001b[0m \u001b[0maddress_family\u001b[0m\u001b[0;34m)\u001b[0m\u001b[0;34m)\u001b[0m\u001b[0;34m\u001b[0m\u001b[0;34m\u001b[0m\u001b[0m\n\u001b[0m\u001b[1;32m    796\u001b[0m             \u001b[0;32mif\u001b[0m \u001b[0mhasattr\u001b[0m\u001b[0;34m(\u001b[0m\u001b[0ms\u001b[0m\u001b[0;34m,\u001b[0m \u001b[0;34m'set_inheritable'\u001b[0m\u001b[0;34m)\u001b[0m\u001b[0;34m:\u001b[0m\u001b[0;34m\u001b[0m\u001b[0;34m\u001b[0m\u001b[0m\n\u001b[1;32m    797\u001b[0m                 \u001b[0ms\u001b[0m\u001b[0;34m.\u001b[0m\u001b[0mset_inheritable\u001b[0m\u001b[0;34m(\u001b[0m\u001b[0;32mTrue\u001b[0m\u001b[0;34m)\u001b[0m\u001b[0;34m\u001b[0m\u001b[0;34m\u001b[0m\u001b[0m\n",
      "\u001b[0;31mOSError\u001b[0m: [Errno 48] Address already in use"
     ]
    }
   ],
   "source": [
    "from flask import Flask, render_template, session, request, redirect, flash, url_for\n",
    "from getpage import getPage\n",
    "\n",
    "app = Flask(__name__)\n",
    "\n",
    "app.secret_key = \"TODO: mettre une valeur secrète ici\"\n",
    "\n",
    "@app.route('/', methods=['GET'])\n",
    "def index():\n",
    "    return render_template('index.html', message=\"Bonjour, monde !\")\n",
    "\n",
    "@app.route('/new-game', methods=['POST'])\n",
    "def new_game():\n",
    "    session['article'] = request.form['start']\n",
    "    return redirect(url_for('game'))\n",
    "\n",
    "@app.route('/game', methods=['GET'])\n",
    "def game():\n",
    "    return render_template('game.html')\n",
    "\n",
    "# Si vous définissez de nouvelles routes, faites-le ici\n",
    "\n",
    "if __name__ == '__main__':\n",
    "    app.run(debug=True)"
   ]
  },
  {
   "cell_type": "code",
   "execution_count": null,
   "metadata": {},
   "outputs": [],
   "source": []
  }
 ],
 "metadata": {
  "kernelspec": {
   "display_name": "Python 3",
   "language": "python",
   "name": "python3"
  },
  "language_info": {
   "codemirror_mode": {
    "name": "ipython",
    "version": 3
   },
   "file_extension": ".py",
   "mimetype": "text/x-python",
   "name": "python",
   "nbconvert_exporter": "python",
   "pygments_lexer": "ipython3",
   "version": "3.6.7"
  }
 },
 "nbformat": 4,
 "nbformat_minor": 2
}
